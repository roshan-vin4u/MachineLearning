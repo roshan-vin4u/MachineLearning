{
 "cells": [
  {
   "cell_type": "markdown",
   "id": "07f53923-0623-4f0a-8504-67233c908fc6",
   "metadata": {},
   "source": [
    "## Logistic Regression using Gradient Descent\n",
    "\n",
    "This Notebook is an illustraion of performing Logistic Regression using Gradient Descent.\n",
    "Also, I have used random values as the training set"
   ]
  },
  {
   "cell_type": "code",
   "execution_count": 1,
   "id": "e6bcdb33-c5b9-4372-97ef-bd71565808a3",
   "metadata": {},
   "outputs": [],
   "source": [
    "import numpy as np\n",
    "from sklearn import model_selection \n",
    "from gd_package import LogisticRegression"
   ]
  },
  {
   "cell_type": "code",
   "execution_count": 2,
   "id": "aeedfb1e-b2f8-4c48-8b0a-92693602789d",
   "metadata": {},
   "outputs": [],
   "source": [
    "def generate_random_samples(samples, features, add_x0 = True):\n",
    "    X = np.random.rand(samples, features)\n",
    "    y = np.ones(samples)\n",
    "    half = int(samples/2)\n",
    "    y[:half] = 0\n",
    "    np.random.shuffle(y)\n",
    "    y = np.expand_dims(y, axis=1)\n",
    "    if (add_x0):\n",
    "        X0 = np.ones((samples,1))\n",
    "        X = np.concatenate((X0, X), axis = 1)\n",
    "    return X, y\n",
    "\n",
    "def generate_train_test_samples(X, y, test_size = 0.33):    \n",
    "    return model_selection.train_test_split(X, y, test_size=test_size, random_state=42)\n",
    "\n",
    "def gradient_descent(X_train, y_train, X_test, y_test, iterations = 200, alpha_lr = 0.02):\n",
    "    \n",
    "    m_samples = X_train.shape[0]\n",
    "    n_features = X_train.shape[1]\n",
    "    cost_history = []\n",
    "    samples_list = []\n",
    "    y_test_pred = None\n",
    "    y_train_pred = None\n",
    "    \n",
    "    logRegObj = LogisticRegression(m_samples, n_features)\n",
    "    for i in range(0, iterations):\n",
    "    \n",
    "        y_train_pred = logRegObj.get_predictions(X_train)\n",
    "        y_test_pred = logRegObj.get_predictions(X_test)\n",
    "        \n",
    "        #Update Gradients\n",
    "        logRegObj.calculate_gradients(alpha_lr, X_train, y_train_pred, y_train)\n",
    "        \n",
    "        #Calculate Cost\n",
    "        logRegObj.calculate_cost(y_train_pred, y_train)\n",
    "    \n",
    "    y_train_pred_class = logRegObj.convert_predictions_to_classes(y_train_pred)\n",
    "    y_test_pred_class = logRegObj.convert_predictions_to_classes(y_test_pred)\n",
    "    \n",
    "    logRegObj.evaluate_model(y_train_pred_class, y_train, y_test_pred_class, y_test)\n",
    "    logRegObj.display_metrics()\n",
    "        \n",
    "    return y_train_pred_class, y_test_pred_class\n"
   ]
  },
  {
   "cell_type": "code",
   "execution_count": 3,
   "id": "c0dd81a3-be7b-43e4-971c-873154df2578",
   "metadata": {},
   "outputs": [
    {
     "name": "stdout",
     "output_type": "stream",
     "text": [
      "Train Accuracy : 0.5074626865671642\n",
      "Test Accuracy : 0.4909090909090909\n",
      "-----------------------------------------\n",
      "Precision Score (Test Set) : 0.5121951219512195\n",
      "Of All Values where the model predicted 1, what fraction of them were actually 1 [TP / TP + FP]\n",
      "-----------------------------------------\n",
      "Recall Score (Test Set) : 0.3684210526315789\n",
      "Of All Values that are 1, what fraction of them did the model correctly predict as 1 [TP / TP + FN]\n",
      "-----------------------------------------\n"
     ]
    },
    {
     "data": {
      "image/png": "[encoded data removed]",
      "text/plain": [
       "<Figure size 432x288 with 1 Axes>"
      ]
     },
     "metadata": {
      "needs_background": "light"
     },
     "output_type": "display_data"
    }
   ],
   "source": [
    "X, y = generate_random_samples(1000, 10)\n",
    "X_train, X_test, y_train, y_test = generate_train_test_samples(X, y, test_size = 0.33)\n",
    "y_train_pred_class, y_test_pred_class = gradient_descent(X_train, y_train, X_test, y_test, iterations = 2000, alpha_lr = 0.2)"
   ]
  }
 ],
 "metadata": {
  "kernelspec": {
   "display_name": "Python 3",
   "language": "python",
   "name": "python3"
  },
  "language_info": {
   "codemirror_mode": {
    "name": "ipython",
    "version": 3
   },
   "file_extension": ".py",
   "mimetype": "text/x-python",
   "name": "python",
   "nbconvert_exporter": "python",
   "pygments_lexer": "ipython3",
   "version": "3.8.10"
  }
 },
 "nbformat": 4,
 "nbformat_minor": 5
}
