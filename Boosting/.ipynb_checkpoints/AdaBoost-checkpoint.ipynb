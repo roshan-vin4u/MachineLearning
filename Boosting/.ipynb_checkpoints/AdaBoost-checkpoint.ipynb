{
 "cells": [
  {
   "cell_type": "markdown",
   "id": "3fd2752d-bcc7-4af0-b15c-0fadd8aecd4e",
   "metadata": {},
   "source": [
    "### Adaboost Classifier\n",
    "\n",
    "#### Steps:\n",
    " - Load Dataset\n",
    " - Assign Initial Weights\n",
    " - for loop:\n",
    "     - Fit the Model on data plus weights\n",
    "     - Predict on X\n",
    "     - Find the misclassifications\n",
    "     - Compute Total Error (TE) - (Sum of weights of samples that have been misclassified)\n",
    "     - Compute Performance of Stump - (1/2 * log(1-TE/TE))\n",
    "     - Update Weights\n",
    "         - MissClassified Samples = Weight * exp(Performance of Stump)\n",
    "         - Correctly Classified Samples = Weight * exp(-Performance of Stump)\n",
    "     - Normalize the Weights\n",
    "     - Re-Sample the Dataset based on the weights"
   ]
  },
  {
   "cell_type": "code",
   "execution_count": 1,
   "id": "2adca929-7cae-437b-b028-102c848488a6",
   "metadata": {},
   "outputs": [],
   "source": [
    "from sklearn import datasets\n",
    "from sklearn.tree import DecisionTreeClassifier\n",
    "from sklearn.model_selection import train_test_split\n",
    "import random\n",
    "import numpy as np"
   ]
  },
  {
   "cell_type": "code",
   "execution_count": 2,
   "id": "39d900a9-c9d6-4f07-a7cf-f20668a688f3",
   "metadata": {},
   "outputs": [],
   "source": [
    "def load_dataset():\n",
    "    X,y = datasets.load_iris(return_X_y = True, as_frame = True)\n",
    "    X['target'] = list(y)\n",
    "    X = X[X[\"target\"].isin([0,1])]\n",
    "    X = X.drop(['petal length (cm)', 'petal width (cm)'], axis = 1)\n",
    "    return X"
   ]
  },
  {
   "cell_type": "code",
   "execution_count": 3,
   "id": "845f088f-ef9d-4a72-ae13-9692e28ae4be",
   "metadata": {},
   "outputs": [],
   "source": [
    "class AdaBoostCustom:\n",
    "    \n",
    "    def __init__(self, X):\n",
    "        self.X = X.copy()\n",
    "        self.clf_stumps = []\n",
    "        self.stump_performances = []\n",
    "        self.total_errors = []\n",
    "        random.seed(42)\n",
    "        pass\n",
    "    \n",
    "    def initialize_weights(self):\n",
    "        self.X['weights'] = 1/self.X.shape[0]\n",
    "    \n",
    "    def find_misclassifications(self, y_pred, y):\n",
    "        missclassifications = [True if y_pred[i] != y.iloc[i] else False for i in range(0, len(y_pred))]\n",
    "        return missclassifications\n",
    "    \n",
    "    def calculate_total_error(self, missclassifications, weights):\n",
    "        weighted_errors = [missclassifications[i] * weights[i] for i in range(0, len(missclassifications))]\n",
    "        return sum(weighted_errors)\n",
    "    \n",
    "    def calculate_stump_performance(self, total_error):\n",
    "        stump_performance = 0.5 * np.log(((1 - total_error) / total_error))\n",
    "        return stump_performance\n",
    "        \n",
    "    def update_weights(self, missclassifications, weights, stump_performance):\n",
    "        new_weights = [(weights[i] * np.exp(stump_performance)) if missclassifications[i] == True else (weights[i] * 1/np.exp(stump_performance)) for i in range(0, len(missclassifications))]\n",
    "        return new_weights\n",
    "    \n",
    "    def fit(self, iterations, features = (0,2), target = 'target'):\n",
    "        \n",
    "        y = self.X[target] * 2 - 1\n",
    "        self.initialize_weights()\n",
    "        \n",
    "        for i in range(0, iterations):\n",
    "            clf_stump = DecisionTreeClassifier(criterion = 'gini', random_state = 100, max_depth = 1).fit(self.X.iloc[:,features[0]:features[1]], y)\n",
    "            y_pred = clf_stump.predict(self.X.iloc[:,features[0]:features[1]])\n",
    "            \n",
    "            missclassifications = self.find_misclassifications(y_pred, y)\n",
    "            total_error = self.calculate_total_error(missclassifications, self.X['weights'].tolist())\n",
    "            stump_performance = self.calculate_stump_performance(total_error)\n",
    "            \n",
    "            self.clf_stumps.append(clf_stump)\n",
    "            self.total_errors.append(total_error)\n",
    "            self.stump_performances.append(stump_performance)\n",
    "            \n",
    "            self.X['weights'] = self.update_weights(missclassifications, self.X['weights'].tolist(), stump_performance)\n",
    "            sum_of_weights = sum(self.X['weights'])\n",
    "            self.X['weights'] = self.X['weights'] / sum_of_weights\n",
    "            self.X = self.X.sample(self.X.shape[0], replace = True, weights = self.X['weights'])\n",
    "            \n",
    "            \n",
    "    def predict(self, X_test, noofcols):\n",
    "        X_test = np.reshape(X_test.tolist(),(1, noofcols))\n",
    "        stump_preds = np.array([clf_stump.predict(X_test) for clf_stump in self.clf_stumps])\n",
    "        return np.sign(np.dot(self.stump_performances, stump_preds))"
   ]
  },
  {
   "cell_type": "code",
   "execution_count": 9,
   "id": "733e514c-a61c-4e78-8155-138e82d12a3e",
   "metadata": {},
   "outputs": [],
   "source": [
    "X_new = load_dataset()\n",
    "adaboost_clf = AdaBoostCustom(X_new)\n",
    "adaboost_clf.fit(10)"
   ]
  },
  {
   "cell_type": "code",
   "execution_count": 17,
   "id": "dea515c5-5b9b-49f5-9c01-b65268a4243f",
   "metadata": {},
   "outputs": [
    {
     "name": "stdout",
     "output_type": "stream",
     "text": [
      "Predicted Value : [1.]\n",
      "Original Value : 1\n"
     ]
    }
   ],
   "source": [
    "predict_index = 90\n",
    "print(f\"Predicted Value : {adaboost_clf.predict(X_new.iloc[predict_index, 0:2], 2)}\")\n",
    "print(f\"Original Value : {X_new.iloc[predict_index, 2] * 2 -1}\")"
   ]
  },
  {
   "cell_type": "code",
   "execution_count": null,
   "id": "eea462ac-3960-4516-84e3-cd46f3e7a120",
   "metadata": {},
   "outputs": [],
   "source": []
  }
 ],
 "metadata": {
  "kernelspec": {
   "display_name": "Python 3",
   "language": "python",
   "name": "python3"
  },
  "language_info": {
   "codemirror_mode": {
    "name": "ipython",
    "version": 3
   },
   "file_extension": ".py",
   "mimetype": "text/x-python",
   "name": "python",
   "nbconvert_exporter": "python",
   "pygments_lexer": "ipython3",
   "version": "3.8.10"
  }
 },
 "nbformat": 4,
 "nbformat_minor": 5
}
